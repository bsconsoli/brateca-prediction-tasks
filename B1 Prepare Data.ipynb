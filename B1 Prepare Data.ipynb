{
 "cells": [
  {
   "cell_type": "markdown",
   "id": "9aa2dc3f",
   "metadata": {},
   "source": [
    "## Modules + File Paths"
   ]
  },
  {
   "cell_type": "code",
   "execution_count": null,
   "id": "60c14a30",
   "metadata": {},
   "outputs": [],
   "source": [
    "import csv\n",
    "from datetime import datetime, timedelta\n",
    "import pandas as pd\n",
    "import numpy as np\n",
    "import pickle"
   ]
  },
  {
   "cell_type": "code",
   "execution_count": null,
   "id": "bc791203",
   "metadata": {},
   "outputs": [],
   "source": [
    "folder_path = 'D:/Downloads/Results/Stage_6' #folder where the BRATECA V1 files were unzipped\n",
    "\n",
    "admission_path = folder_path+'/B1_Admission.csv'\n",
    "clinicalNote_path = folder_path+'/B1_ClinicalNote.csv'\n",
    "exam_path = folder_path+'/B1_Exam.csv'\n",
    "prescription_path = folder_path+'/B1_Prescription.csv'\n",
    "prescriptionItem_path = folder_path+'/B1_PrescriptionItem.csv'"
   ]
  },
  {
   "cell_type": "markdown",
   "id": "47d753ba",
   "metadata": {},
   "source": [
    "## ADMISSION"
   ]
  },
  {
   "cell_type": "code",
   "execution_count": null,
   "id": "465b6620",
   "metadata": {},
   "outputs": [],
   "source": [
    "sc_set = set()\n",
    "s_set = set()\n",
    "first = True\n",
    "\n",
    "with open(admission_path, encoding=\"utf-8\") as ap:\n",
    "    reader = csv.reader(ap)\n",
    "    for row in reader:\n",
    "        if first:\n",
    "            first = False\n",
    "            continue\n",
    "        sc_set.add(row[5])\n",
    "        s_set.add(row[6])\n",
    "\n",
    "sc_dict = dict()\n",
    "sc_columns = []\n",
    "for i,sc in enumerate(sc_set):\n",
    "    sc_dict[sc] = i\n",
    "    sc_columns.append(sc)\n",
    "    \n",
    "s_dict = dict()\n",
    "s_columns = []\n",
    "for i,s in enumerate(s_set):\n",
    "    s_dict[s] = i\n",
    "    s_columns.append(s)"
   ]
  },
  {
   "cell_type": "code",
   "execution_count": null,
   "id": "b7cc5812",
   "metadata": {},
   "outputs": [],
   "source": [
    "with open(admission_path, encoding=\"utf-8\") as ap:\n",
    "    reader = csv.reader(ap)\n",
    "    all_admissions = []\n",
    "    first = True\n",
    "    for row in reader:\n",
    "        if first:\n",
    "            first = False\n",
    "            continue\n",
    "        hospitalID = row[0]\n",
    "        admissionID = row[2]\n",
    "        birth_date = datetime.strptime(row[3], '%d/%m/%Y')\n",
    "        admission_date = datetime.strptime(row[4], '%d/%m/%Y %H:%M')\n",
    "        discharge_date = datetime.strptime(row[9], '%d/%m/%Y %H:%M')\n",
    "        if (discharge_date-admission_date) < timedelta(days=1): #ensure patient stays more than 24h\n",
    "            continue\n",
    "        age = admission_date.year - birth_date.year - ((admission_date.month, admission_date.day) < \n",
    "                                                       (birth_date.month, birth_date.day))\n",
    "        age = int(age)\n",
    "        if age > 90:\n",
    "            age = 90\n",
    "        skincolor_booleans = [0] * len(sc_dict)\n",
    "        skincolor_booleans[sc_dict[row[5]]] = 1\n",
    "        sex_booleans = [0] * len(s_dict)\n",
    "        sex_booleans[s_dict[row[6]]] = 1\n",
    "        discharge_reason = row[10]\n",
    "        #organizing dataframe entry\n",
    "        adm_data = [hospitalID,admissionID,age]\n",
    "        adm_data.extend(skincolor_booleans)\n",
    "        adm_data.extend(sex_booleans)\n",
    "        adm_data.extend([admission_date])\n",
    "        adm_data.extend([discharge_date])\n",
    "        adm_data.extend([discharge_reason])\n",
    "        all_admissions.append(adm_data)\n",
    "    all_admissions = np.array(all_admissions)\n",
    "    colms = ['Hospital ID','Admission ID','Age']\n",
    "    colms.extend(sc_columns)\n",
    "    colms.extend(s_columns)\n",
    "    colms.extend(['Admission Date','Discharge Date','Discharge Reason'])\n",
    "    admission_df = pd.DataFrame(all_admissions, columns = colms)"
   ]
  },
  {
   "cell_type": "code",
   "execution_count": null,
   "id": "20e45495",
   "metadata": {},
   "outputs": [],
   "source": [
    "admission_df.drop('Sem Informação', inplace=True, axis=1)\n",
    "admission_df['Age'] = admission_df['Age'].astype('int')\n",
    "admission_df['Age'] = (admission_df['Age']-admission_df['Age'].min())/(admission_df['Age'].max()-admission_df['Age'].min())"
   ]
  },
  {
   "cell_type": "code",
   "execution_count": null,
   "id": "558f4939",
   "metadata": {},
   "outputs": [],
   "source": [
    "all_admissions = None"
   ]
  },
  {
   "cell_type": "markdown",
   "id": "3e279794",
   "metadata": {},
   "source": [
    "## EXAM"
   ]
  },
  {
   "cell_type": "code",
   "execution_count": null,
   "id": "c2b681b8",
   "metadata": {},
   "outputs": [],
   "source": [
    "en_set = set()\n",
    "first = True\n",
    "\n",
    "with open(exam_path, encoding=\"utf-8\") as ap:\n",
    "    reader = csv.reader(ap)\n",
    "    for row in reader:\n",
    "        if first:\n",
    "            first = False\n",
    "            continue\n",
    "        exam_name = row[3].upper()\n",
    "        exam_unit = row[6]\n",
    "        if exam_unit == '' or exam_unit == ' ':\n",
    "            exam_unit = ''\n",
    "        else:\n",
    "            exam_unit = ' - '+exam_unit\n",
    "        f_exam = exam_name+exam_unit\n",
    "        en_set.add(f_exam)\n",
    "\n",
    "en_dict = dict()\n",
    "en_columns = []\n",
    "for i,en in enumerate(en_set):\n",
    "    en_dict[en] = i\n",
    "    en_columns.append(en)"
   ]
  },
  {
   "cell_type": "code",
   "execution_count": null,
   "id": "0003f0ce",
   "metadata": {},
   "outputs": [],
   "source": [
    "measurements = dict()\n",
    "with open(exam_path, encoding=\"utf-8\") as ap:\n",
    "    reader = csv.reader(ap)\n",
    "    measurements = dict()\n",
    "    first = 1\n",
    "    for row in reader:\n",
    "        if first:\n",
    "            first = 0\n",
    "            continue\n",
    "        exam_name = row[3].upper()\n",
    "        value = float(row[5])\n",
    "        exam_unit = row[6]\n",
    "        if exam_unit == '' or exam_unit == ' ':\n",
    "            exam_unit = ''\n",
    "        else:\n",
    "            exam_unit = ' - '+exam_unit\n",
    "        f_exam = exam_name+exam_unit\n",
    "        if f_exam not in measurements.keys():\n",
    "            measurements[f_exam] = []\n",
    "        measurements[f_exam].append(value)\n",
    "    for e in measurements.keys():\n",
    "        array = np.array(measurements[e])\n",
    "        msrmt = [array.max(), array.min(), array.mean(), array.std()]\n",
    "        measurements[e] = msrmt"
   ]
  },
  {
   "cell_type": "code",
   "execution_count": null,
   "id": "5714910d",
   "metadata": {},
   "outputs": [],
   "source": [
    "all_exams_minmax = []\n",
    "with open(exam_path, encoding=\"utf-8\") as ap:\n",
    "    reader = csv.reader(ap)\n",
    "    first = 1\n",
    "    for row in reader:\n",
    "        if first:\n",
    "            first = 0\n",
    "            continue\n",
    "        hospitalID = row[0]\n",
    "        admissionID = row[2]\n",
    "        exam_name = row[3].upper()\n",
    "        exam_unit = row[6]\n",
    "        if exam_unit == '' or exam_unit == ' ':\n",
    "            exam_unit = ''\n",
    "        else:\n",
    "            exam_unit = ' - '+exam_unit\n",
    "        f_exam = exam_name+exam_unit\n",
    "        \n",
    "        exam_results = np.array(measurements[f_exam])\n",
    "        value = float(row[5])\n",
    "        if (exam_results[0]-exam_results[1]) != 0:\n",
    "            value_minmax = (value - exam_results[1])/(exam_results[0]-exam_results[1])\n",
    "        else:\n",
    "            value_minmax = 1\n",
    "    \n",
    "        exam_booleans_minmax = [0] * len(en_set)\n",
    "        exam_booleans_minmax[en_dict[f_exam]] = value_minmax\n",
    "        \n",
    "        examDate = datetime.strptime(row[4], '%Y-%m-%d %H:%M:%S.%f')\n",
    "        \n",
    "        #organizing dataframe entry\n",
    "        adm_data = [hospitalID,admissionID,examDate]\n",
    "        adm_data.extend(exam_booleans_minmax)\n",
    "        all_exams_minmax.append(adm_data)\n",
    "\n",
    "    \n",
    "    colms = ['Hospital ID','Admission ID','Exam Date']\n",
    "    colms.extend(en_columns)"
   ]
  },
  {
   "cell_type": "code",
   "execution_count": null,
   "id": "1706aa12",
   "metadata": {},
   "outputs": [],
   "source": [
    "all_exams_minmax = np.array(all_exams_minmax)\n",
    "exams_minmax_df = pd.DataFrame(all_exams_minmax, columns = colms)"
   ]
  },
  {
   "cell_type": "code",
   "execution_count": null,
   "id": "f93c365c",
   "metadata": {},
   "outputs": [],
   "source": [
    "adm_exam_df = pd.merge(admission_df, exams_minmax_df, on=['Hospital ID','Admission ID'], how='left')\n",
    "adm_exam_df.to_pickle(folder_path+'/adm_exams_df.pkl')"
   ]
  },
  {
   "cell_type": "code",
   "execution_count": null,
   "id": "f96eebcf",
   "metadata": {},
   "outputs": [],
   "source": [
    "all_exams_minmax = None\n",
    "exams_minmax_df = None"
   ]
  },
  {
   "cell_type": "code",
   "execution_count": null,
   "id": "abf8acb3",
   "metadata": {},
   "outputs": [],
   "source": [
    "id_list = adm_exam_df['Admission ID'].unique()\n",
    "patient_list_by_id = adm_exam_df.groupby(adm_exam_df['Admission ID'])"
   ]
  },
  {
   "cell_type": "code",
   "execution_count": null,
   "id": "9290fd44",
   "metadata": {},
   "outputs": [],
   "source": [
    "exam_dict = dict()\n",
    "for patient_id in id_list:\n",
    "    curr_patient = patient_list_by_id.get_group(patient_id)\n",
    "    curr_patient = curr_patient.loc[(curr_patient['Exam Date']-curr_patient['Admission Date']) < timedelta(days=1)]\n",
    "    if curr_patient.empty:\n",
    "        continue\n",
    "    mortality_label = curr_patient['Discharge Reason'].unique()[0]\n",
    "    if 'alta' in mortality_label.lower():\n",
    "        mortality_label = 'Alta'\n",
    "    elif 'obito' in mortality_label.lower() or 'óbito' in mortality_label.lower():\n",
    "        mortality_label = 'Obito'\n",
    "    else:\n",
    "        mortality_label = 'Other'\n",
    "    length_of_stay_label = curr_patient['Discharge Date'].unique()[0] - curr_patient['Admission Date'].unique()[0] > np.timedelta64(7, 'D')\n",
    "    curr_patient.drop(['Admission ID','Hospital ID','Admission Date','Discharge Date','Discharge Reason','Exam Date'], inplace=True, axis=1) \n",
    "    features = [0]*len(curr_patient.columns)\n",
    "    for index, row in curr_patient.iterrows():\n",
    "        new_features = row.tolist()\n",
    "        for i in range(len(features)):\n",
    "            if new_features[i] == 0:\n",
    "                continue\n",
    "            features[i] = new_features[i]\n",
    "    exam_dict[patient_id] = (features, length_of_stay_label, mortality_label)"
   ]
  },
  {
   "cell_type": "code",
   "execution_count": null,
   "id": "3ea95ae5",
   "metadata": {},
   "outputs": [],
   "source": [
    "with open(folder_path+'/exam_feature_dict.pkl', 'wb') as exam_file:\n",
    "    pickle.dump(exam_dict, exam_file, protocol=pickle.HIGHEST_PROTOCOL)"
   ]
  },
  {
   "cell_type": "code",
   "execution_count": null,
   "id": "6cdece66",
   "metadata": {},
   "outputs": [],
   "source": [
    "adm_exam_df = None\n",
    "patient_list_by_id = None\n",
    "id_list = None\n",
    "exam_dict = None"
   ]
  },
  {
   "cell_type": "markdown",
   "id": "87cae18f",
   "metadata": {},
   "source": [
    "## CLINICAL NOTES"
   ]
  },
  {
   "cell_type": "code",
   "execution_count": null,
   "id": "5fec3039",
   "metadata": {},
   "outputs": [],
   "source": [
    "with open(clinicalNote_path, encoding=\"utf-8\") as ap:\n",
    "    reader = csv.reader(ap)\n",
    "    all_notes = []\n",
    "    first = True\n",
    "    for row in reader:\n",
    "        if first:\n",
    "            first = False\n",
    "            continue\n",
    "        hospitalID = row[0]\n",
    "        admissionID = row[2]\n",
    "        note_date = datetime.strptime(row[3], '%Y-%m-%d %H:%M:%S.%f')\n",
    "        text = row[4]\n",
    "        all_notes.append([hospitalID,admissionID,note_date,text])\n",
    "        \n",
    "    all_notes = np.array(all_notes)\n",
    "    colms = ['Hospital ID', 'Admission ID','Note Date','Note Text']\n",
    "    clinicalNote_df = pd.DataFrame(all_notes, columns = colms)"
   ]
  },
  {
   "cell_type": "code",
   "execution_count": null,
   "id": "64ae41ee",
   "metadata": {},
   "outputs": [],
   "source": [
    "adm_note_df = pd.merge(admission_df, clinicalNote_df, on=['Hospital ID','Admission ID'], how='left')\n",
    "adm_note_df.drop(['Hospital ID','Age','Branca','Negra','Parda','Amarela','F','M'], inplace=True, axis=1)"
   ]
  },
  {
   "cell_type": "code",
   "execution_count": null,
   "id": "0ea73ace",
   "metadata": {},
   "outputs": [],
   "source": [
    "admission_df = None\n",
    "all_notes = None"
   ]
  },
  {
   "cell_type": "code",
   "execution_count": null,
   "id": "5d9ef086",
   "metadata": {},
   "outputs": [],
   "source": [
    "id_list = adm_note_df['Admission ID'].unique()\n",
    "patient_list_by_id = adm_note_df.groupby(adm_note_df['Admission ID'])"
   ]
  },
  {
   "cell_type": "code",
   "execution_count": null,
   "id": "8a498fdf",
   "metadata": {},
   "outputs": [],
   "source": [
    "note_dict = dict()\n",
    "for patient_id in id_list:\n",
    "    curr_patient = patient_list_by_id.get_group(patient_id)\n",
    "    curr_patient = curr_patient.loc[(curr_patient['Note Date']-curr_patient['Admission Date']) < timedelta(days=1)]\n",
    "    if curr_patient.empty:\n",
    "        continue\n",
    "    mortality_label = curr_patient['Discharge Reason'].unique()[0]\n",
    "    if 'alta' in mortality_label.lower():\n",
    "        mortality_label = 'Alta'\n",
    "    elif 'obito' in mortality_label.lower() or 'óbito' in mortality_label.lower():\n",
    "        mortality_label = 'Obito'\n",
    "    else:\n",
    "        mortality_label = 'Other'\n",
    "    length_of_stay_label = curr_patient['Discharge Date'].unique()[0] - curr_patient['Admission Date'].unique()[0] > np.timedelta64(7, 'D')\n",
    "    curr_patient.drop(['Admission ID','Admission Date','Discharge Date','Discharge Reason','Note Date'], inplace=True, axis=1) \n",
    "    notes = []\n",
    "    for index, row in curr_patient.iterrows():\n",
    "        new_note = row.tolist()\n",
    "        notes.append(new_note)\n",
    "    note_dict[patient_id] = (notes, length_of_stay_label, mortality_label)"
   ]
  },
  {
   "cell_type": "code",
   "execution_count": null,
   "id": "7c0da523",
   "metadata": {},
   "outputs": [],
   "source": [
    "with open(folder_path+'/note_dict.pkl', 'wb') as note_file:\n",
    "    pickle.dump(note_dict, note_file, protocol=pickle.HIGHEST_PROTOCOL)"
   ]
  },
  {
   "cell_type": "code",
   "execution_count": null,
   "id": "290265e6",
   "metadata": {},
   "outputs": [],
   "source": [
    "note_dict = None\n",
    "patient_list_by_id = None\n",
    "id_list = None"
   ]
  }
 ],
 "metadata": {
  "kernelspec": {
   "display_name": "Python 3 (ipykernel)",
   "language": "python",
   "name": "python3"
  },
  "language_info": {
   "codemirror_mode": {
    "name": "ipython",
    "version": 3
   },
   "file_extension": ".py",
   "mimetype": "text/x-python",
   "name": "python",
   "nbconvert_exporter": "python",
   "pygments_lexer": "ipython3",
   "version": "3.9.12"
  }
 },
 "nbformat": 4,
 "nbformat_minor": 5
}
